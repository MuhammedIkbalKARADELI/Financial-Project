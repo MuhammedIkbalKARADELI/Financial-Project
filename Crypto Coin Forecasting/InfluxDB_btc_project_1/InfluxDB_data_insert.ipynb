{
 "cells": [
  {
   "cell_type": "code",
   "execution_count": null,
   "id": "d914c834",
   "metadata": {},
   "outputs": [],
   "source": [
    "import requests\n",
    "import time\n",
    "from influxdb_client import InfluxDBClient, Point, WritePrecision\n",
    "from influxdb_client.client.write_api import SYNCHRONOUS\n",
    "import os\n",
    "\n",
    "# (Opsiyonel) .env dosyasını yükle\n",
    "# from dotenv import load_dotenv\n",
    "# load_dotenv()\n",
    "\n",
    "# InfluxDB bağlantı bilgileri\n",
    "url = \"http://localhost:8086\"\n",
    "token = \"uIDz4VhQ9tosSxViLxwwgDwo6jF3CsqGfJdK0XeghqCSAqS97c934ddUCybwoBUCBnL1CzElikLwNWap3LAP7g==\"\n",
    "# token = \"t33br8eEj6H5bYOgz0ddqR_B8BZp0xjl8x--QCsPjG9-XZaFZBWE5Tp50W58gu9ytlFp725zk_QxeZBRphNa4w==\"\n",
    "org = \"Yildiz Technical Univercity\"  # <-- Arayüzde yazan birebir haliyle olmalı\n",
    "bucket = \"crypto_bucket_db\"       # <-- bucket gerçekten var mı?\n",
    "\n",
    "# Client başlat\n",
    "client = InfluxDBClient(url=url, token=token, org=org)\n",
    "write_api = client.write_api(write_options=SYNCHRONOUS)\n",
    "\n",
    "# Binance API'den veri çek\n",
    "def get_binance_price(symbol=\"BTCUSDT\"):\n",
    "    endpoint = f\"https://api.binance.com/api/v3/ticker/price?symbol={symbol}\"\n",
    "    response = requests.get(endpoint)\n",
    "    data = response.json()\n",
    "    return float(data[\"price\"])\n",
    "\n",
    "# Her 5 saniyede bir veri yaz\n",
    "try:\n",
    "    while True:\n",
    "        price = get_binance_price()\n",
    "        point = (\n",
    "            Point(\"crypto_price\")\n",
    "            .tag(\"symbol\", \"BTCUSDT\")\n",
    "            .field(\"price\", price)\n",
    "            .time(time.time_ns(), WritePrecision.NS)\n",
    "        )\n",
    "        write_api.write(bucket=bucket, org=org, record=point)\n",
    "        # print(f\"Yazıldı: BTC/USDT = {price}\")\n",
    "        time.sleep(5)\n",
    "\n",
    "except KeyboardInterrupt:\n",
    "    print(\"Veri aktarımı durduruldu.\")\n",
    "finally:\n",
    "    client.close()\n"
   ]
  },
  {
   "cell_type": "code",
   "execution_count": null,
   "id": "6dc0fdec",
   "metadata": {},
   "outputs": [],
   "source": []
  },
  {
   "cell_type": "code",
   "execution_count": null,
   "id": "bafd764e",
   "metadata": {},
   "outputs": [],
   "source": []
  },
  {
   "cell_type": "code",
   "execution_count": null,
   "id": "357ac77a",
   "metadata": {},
   "outputs": [],
   "source": []
  },
  {
   "cell_type": "code",
   "execution_count": null,
   "id": "1abf58e5",
   "metadata": {},
   "outputs": [],
   "source": []
  },
  {
   "cell_type": "code",
   "execution_count": null,
   "id": "694edc83",
   "metadata": {},
   "outputs": [],
   "source": []
  },
  {
   "cell_type": "code",
   "execution_count": null,
   "id": "1c023d9b",
   "metadata": {},
   "outputs": [],
   "source": []
  },
  {
   "cell_type": "code",
   "execution_count": null,
   "id": "8c3dcb4e",
   "metadata": {},
   "outputs": [],
   "source": []
  }
 ],
 "metadata": {
  "kernelspec": {
   "display_name": "Python 3",
   "language": "python",
   "name": "python3"
  },
  "language_info": {
   "codemirror_mode": {
    "name": "ipython",
    "version": 3
   },
   "file_extension": ".py",
   "mimetype": "text/x-python",
   "name": "python",
   "nbconvert_exporter": "python",
   "pygments_lexer": "ipython3",
   "version": "3.10.5"
  }
 },
 "nbformat": 4,
 "nbformat_minor": 5
}
