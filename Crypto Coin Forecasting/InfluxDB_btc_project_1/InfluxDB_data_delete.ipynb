{
 "cells": [
  {
   "cell_type": "code",
   "execution_count": 2,
   "id": "53a0b6d1",
   "metadata": {},
   "outputs": [
    {
     "name": "stdout",
     "output_type": "stream",
     "text": [
      "✅ Tüm veriler silindi.\n"
     ]
    }
   ],
   "source": [
    "from influxdb_client import InfluxDBClient\n",
    "from influxdb_client.client.delete_api import DeleteApi\n",
    "from datetime import datetime\n",
    "\n",
    "# Bağlantı bilgileri\n",
    "url = \"http://localhost:8086\"\n",
    "token = \"uIDz4VhQ9tosSxViLxwwgDwo6jF3CsqGfJdK0XeghqCSAqS97c934ddUCybwoBUCBnL1CzElikLwNWap3LAP7g==\"\n",
    "# token = \"t33br8eEj6H5bYOgz0ddqR_B8BZp0xjl8x--QCsPjG9-XZaFZBWE5Tp50W58gu9ytlFp725zk_QxeZBRphNa4w==\" Crypto Token\n",
    "org = \"Yildiz Technical Univercity\"\n",
    "bucket = \"crypto_bucket_db\"\n",
    "\n",
    "client = InfluxDBClient(url=url, token=token, org=org)\n",
    "delete_api = client.delete_api()\n",
    "\n",
    "# Başlangıç ve bitiş zamanı (tüm zamanları kapsayacak şekilde)\n",
    "start = \"1970-01-01T00:00:00Z\"\n",
    "stop = datetime.utcnow().isoformat() + \"Z\"  # Şu anki zaman\n",
    "\n",
    "# Silme işlemi\n",
    "delete_api.delete(start, stop, '', bucket=bucket, org=org)\n",
    "\n",
    "print(\"✅ Tüm veriler silindi.\")\n",
    "client.close()\n"
   ]
  },
  {
   "cell_type": "code",
   "execution_count": null,
   "id": "f0c5e1d5",
   "metadata": {},
   "outputs": [],
   "source": []
  },
  {
   "cell_type": "code",
   "execution_count": null,
   "id": "8907455e",
   "metadata": {},
   "outputs": [],
   "source": []
  }
 ],
 "metadata": {
  "kernelspec": {
   "display_name": "Python 3",
   "language": "python",
   "name": "python3"
  },
  "language_info": {
   "codemirror_mode": {
    "name": "ipython",
    "version": 3
   },
   "file_extension": ".py",
   "mimetype": "text/x-python",
   "name": "python",
   "nbconvert_exporter": "python",
   "pygments_lexer": "ipython3",
   "version": "3.10.5"
  }
 },
 "nbformat": 4,
 "nbformat_minor": 5
}
