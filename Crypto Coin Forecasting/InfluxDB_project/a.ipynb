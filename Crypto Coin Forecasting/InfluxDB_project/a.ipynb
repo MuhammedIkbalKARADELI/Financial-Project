{
 "cells": [
  {
   "cell_type": "code",
   "execution_count": 1,
   "id": "ac5695aa",
   "metadata": {},
   "outputs": [],
   "source": [
    "import pandas as pd"
   ]
  },
  {
   "cell_type": "code",
   "execution_count": null,
   "id": "f67ec256",
   "metadata": {},
   "outputs": [],
   "source": [
    "deneme = \"naber moruk...\" # yorumm satarı"
   ]
  },
  {
   "cell_type": "code",
   "execution_count": null,
   "id": "4b92fd7a",
   "metadata": {},
   "outputs": [],
   "source": []
  }
 ],
 "metadata": {
  "kernelspec": {
   "display_name": "Python 3",
   "language": "python",
   "name": "python3"
  },
  "language_info": {
   "codemirror_mode": {
    "name": "ipython",
    "version": 3
   },
   "file_extension": ".py",
   "mimetype": "text/x-python",
   "name": "python",
   "nbconvert_exporter": "python",
   "pygments_lexer": "ipython3",
   "version": "3.10.5"
  }
 },
 "nbformat": 4,
 "nbformat_minor": 5
}
