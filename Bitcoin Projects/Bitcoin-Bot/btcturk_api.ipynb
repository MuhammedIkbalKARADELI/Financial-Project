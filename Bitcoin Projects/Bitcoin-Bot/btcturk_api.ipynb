{
 "cells": [
  {
   "cell_type": "code",
   "execution_count": 1,
   "metadata": {},
   "outputs": [],
   "source": [
    "import ccxt\n",
    "import pandas as pd\n",
    "import numpy as np"
   ]
  },
  {
   "cell_type": "code",
   "execution_count": 3,
   "metadata": {},
   "outputs": [],
   "source": [
    "# Binance API bağlantısı\n",
    "#### 212.253.203.202 ip adresi için btc-türk için apikey, oluşturma. \n",
    "exchange = ccxt.btcturk({\n",
    "    'apiKey': 'd75b913f-c8cd-4d0b-8a60-87c802372fa4',\n",
    "    'secret': 'MugC1ziP8fC3pvGzdj8W2aerQzP7zPVZ',\n",
    "})\n",
    "\n",
    "\n"
   ]
  },
  {
   "cell_type": "code",
   "execution_count": null,
   "metadata": {},
   "outputs": [],
   "source": [
    "# Piyasa verilerini çekme\n",
    "ticker = exchange.fetch_ticker('BTC/USDT')\n",
    "print(ticker)"
   ]
  },
  {
   "cell_type": "code",
   "execution_count": null,
   "metadata": {},
   "outputs": [],
   "source": []
  },
  {
   "cell_type": "code",
   "execution_count": null,
   "metadata": {},
   "outputs": [],
   "source": [
    "import ccxt\n",
    "\n",
    "# BTC Türk'e bağlan\n",
    "exchange = ccxt.btcturk({\n",
    "    'apiKey': \"b4cac2f5-596e-44e0-b1f3-69c7eb9aeb35\",\n",
    "    'secret': \"Cr0SVA21QMtj+qh/PTI8peZujI1fP4xw\",\n",
    "    'enableRateLimit': True \n",
    "})\n",
    "\n",
    "\n",
    "# Piyasa bilgisini al\n",
    "exchange.load_markets()\n",
    "\n",
    "# BTC/TRY için mevcut fiyatı çek\n",
    "btc_try = exchange.fetch_ticker('BTC/TRY')\n",
    "btc_try_price = btc_try[\"last\"]  # Son fiyat\n",
    "\n",
    "# 1000 TL karşılığı kaç BTC alınabilir hesapla\n",
    "amount = 1000 / btc_try_price\n",
    "amount\n",
    "\n",
    "# Piyasa emri ile BTC al\n",
    "# order = exchange.create_market_buy_order('BTC/TRY', amount)\n",
    "\n",
    "# İşlem sonucunu yazdır\n",
    "# print(\"BTC ALIM EMRİ BAŞARILI:\", order)\n",
    "\n"
   ]
  },
  {
   "cell_type": "code",
   "execution_count": null,
   "metadata": {},
   "outputs": [],
   "source": []
  },
  {
   "cell_type": "code",
   "execution_count": null,
   "metadata": {},
   "outputs": [],
   "source": [
    "import time\n",
    "import hmac\n",
    "import hashlib\n",
    "import base64\n",
    "import requests\n",
    "import json\n",
    "\n",
    "# # BTC Türk'e bağlan\n",
    "# exchange = ccxt.btcturk({\n",
    "#     'apiKey': \"b4cac2f5-596e-44e0-b1f3-69c7eb9aeb35\",\n",
    "#     'secret': \"Cr0SVA21QMtj+qh/PTI8peZujI1fP4xw\",\n",
    "# })\n",
    "\n",
    "# BTC Türk API Anahtarlarınız\n",
    "API_KEY = \"b4cac2f5-596e-44e0-b1f3-69c7eb9aeb35\"\n",
    "API_SECRET = \"Cr0SVA21QMtj+qh/PTI8peZujI1fP4xw\"\n",
    "\n",
    "# API SECRET'ı base64 formatından çöz\n",
    "api_secret_decoded = base64.b64decode(API_SECRET)\n",
    "\n",
    "# Zaman damgası (timestamp) oluştur\n",
    "stamp = str(int(time.time()) * 1000)\n",
    "\n",
    "# Veriyi HMAC SHA256 ile imzalama\n",
    "data = \"{}{}\".format(API_KEY, stamp).encode('utf-8')\n",
    "signature = hmac.new(api_secret_decoded, data, hashlib.sha256).digest()\n",
    "signature = base64.b64encode(signature).decode()\n",
    "\n",
    "# HTTP Başlıklarını (Headers) ayarla\n",
    "headers = {\n",
    "    \"X-PCK\": API_KEY,\n",
    "    \"X-Stamp\": stamp,\n",
    "    \"X-Signature\": signature,\n",
    "    \"Content-Type\": \"application/json\"\n",
    "}\n",
    "\n",
    "# BTC/TRY fiyatını çekme\n",
    "ticker_url = \"https://api.btcturk.com/api/v2/ticker\"\n",
    "response = requests.get(ticker_url)\n",
    "ticker_data = response.json()\n",
    "\n",
    "# BTC/TRY fiyatını bul\n",
    "btc_try_price = None\n",
    "for pair in ticker_data[\"data\"]:\n",
    "    if pair[\"pair\"] == \"BTCTRY\":\n",
    "        btc_try_price = float(pair[\"last\"])\n",
    "        break\n",
    "\n",
    "if btc_try_price is None:\n",
    "    print(\"BTC fiyatı alınamadı!\")\n",
    "    exit()\n",
    "\n",
    "# 1000 TL karşılığı kaç BTC alınabilir?\n",
    "amount = 1000 / btc_try_price\n",
    "amount\n"
   ]
  },
  {
   "cell_type": "code",
   "execution_count": null,
   "metadata": {},
   "outputs": [],
   "source": [
    "# Alım Emri (BUY ORDER) oluşturma\n",
    "order_url = \"https://api.btcturk.com/api/v1/order\"\n",
    "\n",
    "# Sipariş verileri\n",
    "order_data = {\n",
    "    \"quantity\": round(amount, 6),  # Kaç BTC alınacağı (6 ondalık basamak)\n",
    "    \"price\": btc_try_price,  # Piyasa fiyatı\n",
    "    \"stopPrice\": 0,  # Stop fiyat (Piyasa emri için 0 kalabilir)\n",
    "    \"newOrderClientId\": \"123456\",  # Rastgele bir müşteri ID\n",
    "    \"orderMethod\": \"market\",  # Piyasa emri (market order)\n",
    "    \"orderType\": \"buy\",  # Alış emri\n",
    "    \"pairSymbol\": \"BTCTRY\"  # İşlem çifti\n",
    "}\n",
    "\n",
    "# API'ye alım emrini gönderme\n",
    "response = requests.post(order_url, headers=headers, json=order_data)\n",
    "\n",
    "# # Yanıtı ekrana yazdır\n",
    "if response.status_code == 200:\n",
    "    print(\"BTC ALIM EMRİ BAŞARILI:\", response.json())\n",
    "else:\n",
    "    print(\"HATA OLUŞTU:\", response.json())"
   ]
  }
 ],
 "metadata": {
  "kernelspec": {
   "display_name": "Python 3",
   "language": "python",
   "name": "python3"
  },
  "language_info": {
   "codemirror_mode": {
    "name": "ipython",
    "version": 3
   },
   "file_extension": ".py",
   "mimetype": "text/x-python",
   "name": "python",
   "nbconvert_exporter": "python",
   "pygments_lexer": "ipython3",
   "version": "3.10.5"
  }
 },
 "nbformat": 4,
 "nbformat_minor": 2
}
