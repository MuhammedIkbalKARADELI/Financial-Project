{
 "cells": [
  {
   "cell_type": "code",
   "execution_count": 24,
   "id": "c7da7676",
   "metadata": {},
   "outputs": [
    {
     "name": "stdout",
     "output_type": "stream",
     "text": [
      "Zaman: 2025-05-15 10:42:29.840900+00:00, Fiyat: 101628.24\n",
      "Zaman: 2025-05-15 10:42:35.706221+00:00, Fiyat: 101652.41\n",
      "Zaman: 2025-05-15 10:42:41.181775+00:00, Fiyat: 101652.41\n",
      "Zaman: 2025-05-15 10:42:46.772684+00:00, Fiyat: 101652.3\n",
      "Zaman: 2025-05-15 10:42:52.465016+00:00, Fiyat: 101634.49\n",
      "Zaman: 2025-05-15 10:42:57.928881+00:00, Fiyat: 101634.48\n",
      "Zaman: 2025-05-15 10:43:03.391660+00:00, Fiyat: 101634.49\n",
      "Zaman: 2025-05-15 10:43:08.954958+00:00, Fiyat: 101629.4\n",
      "Zaman: 2025-05-15 10:43:14.431792+00:00, Fiyat: 101638.1\n",
      "Zaman: 2025-05-15 10:43:19.931384+00:00, Fiyat: 101638.1\n",
      "Zaman: 2025-05-15 10:43:25.514392+00:00, Fiyat: 101638.09\n",
      "Zaman: 2025-05-15 10:43:30.999403+00:00, Fiyat: 101644.85\n",
      "Zaman: 2025-05-15 10:43:36.612262+00:00, Fiyat: 101650.0\n",
      "Zaman: 2025-05-15 10:43:42.127559+00:00, Fiyat: 101649.99\n",
      "Zaman: 2025-05-15 10:43:47.649172+00:00, Fiyat: 101649.99\n",
      "Zaman: 2025-05-15 10:43:53.166448+00:00, Fiyat: 101650.0\n",
      "Zaman: 2025-05-15 10:43:58.655361+00:00, Fiyat: 101658.44\n",
      "Zaman: 2025-05-15 10:44:04.263319+00:00, Fiyat: 101658.44\n",
      "Zaman: 2025-05-15 10:44:09.876106+00:00, Fiyat: 101658.44\n",
      "Zaman: 2025-05-15 10:44:16.370616+00:00, Fiyat: 101658.44\n",
      "Zaman: 2025-05-15 10:44:21.863519+00:00, Fiyat: 101658.45\n",
      "Zaman: 2025-05-15 10:44:27.393982+00:00, Fiyat: 101658.45\n",
      "Zaman: 2025-05-15 10:44:32.952895+00:00, Fiyat: 101658.44\n",
      "Zaman: 2025-05-15 10:44:38.408682+00:00, Fiyat: 101673.42\n",
      "Zaman: 2025-05-15 10:44:44.080570+00:00, Fiyat: 101673.43\n",
      "Zaman: 2025-05-15 10:44:49.543261+00:00, Fiyat: 101673.43\n",
      "Zaman: 2025-05-15 10:44:55.010305+00:00, Fiyat: 101673.43\n",
      "Zaman: 2025-05-15 10:45:00.675780+00:00, Fiyat: 101673.43\n",
      "Zaman: 2025-05-15 10:45:06.159646+00:00, Fiyat: 101673.42\n",
      "Zaman: 2025-05-15 10:45:11.739310+00:00, Fiyat: 101673.42\n",
      "Zaman: 2025-05-15 10:45:17.305299+00:00, Fiyat: 101685.36\n",
      "Zaman: 2025-05-15 10:45:22.778361+00:00, Fiyat: 101685.36\n",
      "Zaman: 2025-05-15 10:45:28.320065+00:00, Fiyat: 101706.21\n",
      "Zaman: 2025-05-15 10:45:33.851868+00:00, Fiyat: 101690.72\n",
      "Zaman: 2025-05-15 10:45:39.352767+00:00, Fiyat: 101690.73\n",
      "Zaman: 2025-05-15 10:45:44.894910+00:00, Fiyat: 101690.73\n",
      "Zaman: 2025-05-15 10:45:50.362504+00:00, Fiyat: 101709.27\n",
      "Zaman: 2025-05-15 10:45:56.065893+00:00, Fiyat: 101714.65\n",
      "Zaman: 2025-05-15 10:46:01.643222+00:00, Fiyat: 101714.64\n",
      "Zaman: 2025-05-15 10:46:07.294994+00:00, Fiyat: 101720.63\n",
      "Zaman: 2025-05-15 10:46:12.868527+00:00, Fiyat: 101730.48\n",
      "Zaman: 2025-05-15 10:46:18.476519+00:00, Fiyat: 101718.33\n",
      "Zaman: 2025-05-15 10:46:23.997087+00:00, Fiyat: 101714.64\n",
      "Zaman: 2025-05-15 10:46:29.467534+00:00, Fiyat: 101688.76\n",
      "Zaman: 2025-05-15 10:46:35.090682+00:00, Fiyat: 101686.64\n",
      "Zaman: 2025-05-15 10:46:40.730697+00:00, Fiyat: 101697.53\n",
      "Zaman: 2025-05-15 10:46:46.268948+00:00, Fiyat: 101702.26\n",
      "Zaman: 2025-05-15 10:46:51.818419+00:00, Fiyat: 101718.81\n",
      "Zaman: 2025-05-15 10:46:58.287811+00:00, Fiyat: 101718.8\n",
      "Zaman: 2025-05-15 10:47:03.793392+00:00, Fiyat: 101718.81\n",
      "Zaman: 2025-05-15 10:47:09.286121+00:00, Fiyat: 101718.8\n",
      "Zaman: 2025-05-15 10:47:14.829158+00:00, Fiyat: 101719.99\n",
      "Zaman: 2025-05-15 10:47:20.299901+00:00, Fiyat: 101720.0\n",
      "Zaman: 2025-05-15 10:47:25.879476+00:00, Fiyat: 101719.99\n",
      "Zaman: 2025-05-15 10:47:31.339995+00:00, Fiyat: 101719.99\n",
      "Zaman: 2025-05-15 10:47:36.808469+00:00, Fiyat: 101720.0\n",
      "Zaman: 2025-05-15 10:47:42.373037+00:00, Fiyat: 101720.0\n",
      "Zaman: 2025-05-15 10:47:47.901105+00:00, Fiyat: 101720.0\n",
      "Zaman: 2025-05-15 10:47:53.404619+00:00, Fiyat: 101719.99\n",
      "Zaman: 2025-05-15 10:47:58.956864+00:00, Fiyat: 101692.28\n",
      "Zaman: 2025-05-15 10:48:04.446883+00:00, Fiyat: 101680.0\n",
      "Zaman: 2025-05-15 10:48:10.251437+00:00, Fiyat: 101665.11\n",
      "Zaman: 2025-05-15 10:48:15.855664+00:00, Fiyat: 101661.31\n",
      "Zaman: 2025-05-15 10:48:21.330165+00:00, Fiyat: 101661.32\n",
      "Zaman: 2025-05-15 10:48:26.829154+00:00, Fiyat: 101629.16\n",
      "Zaman: 2025-05-15 10:48:32.292108+00:00, Fiyat: 101618.0\n",
      "Zaman: 2025-05-15 10:48:37.785142+00:00, Fiyat: 101600.0\n",
      "Zaman: 2025-05-15 10:48:43.295369+00:00, Fiyat: 101600.01\n",
      "Zaman: 2025-05-15 10:48:48.786751+00:00, Fiyat: 101600.01\n",
      "Zaman: 2025-05-15 10:48:54.251710+00:00, Fiyat: 101618.33\n",
      "Zaman: 2025-05-15 10:48:59.708573+00:00, Fiyat: 101618.33\n",
      "Zaman: 2025-05-15 10:49:05.205923+00:00, Fiyat: 101636.46\n",
      "Zaman: 2025-05-15 10:49:10.745038+00:00, Fiyat: 101636.46\n",
      "Zaman: 2025-05-15 10:49:16.222758+00:00, Fiyat: 101665.48\n",
      "Zaman: 2025-05-15 10:49:21.737905+00:00, Fiyat: 101665.46\n",
      "Zaman: 2025-05-15 10:49:27.734725+00:00, Fiyat: 101665.47\n",
      "Zaman: 2025-05-15 10:49:33.366752+00:00, Fiyat: 101695.29\n",
      "Zaman: 2025-05-15 10:49:39.002028+00:00, Fiyat: 101711.96\n",
      "Zaman: 2025-05-15 10:49:44.534868+00:00, Fiyat: 101711.96\n",
      "Zaman: 2025-05-15 10:49:50.027999+00:00, Fiyat: 101733.81\n",
      "Zaman: 2025-05-15 10:49:55.484131+00:00, Fiyat: 101733.82\n",
      "Zaman: 2025-05-15 10:50:01.117167+00:00, Fiyat: 101733.82\n",
      "Zaman: 2025-05-15 10:50:06.625542+00:00, Fiyat: 101733.81\n",
      "Zaman: 2025-05-15 10:50:12.203894+00:00, Fiyat: 101766.42\n",
      "Zaman: 2025-05-15 10:50:17.754304+00:00, Fiyat: 101794.96\n",
      "Zaman: 2025-05-15 10:50:23.230104+00:00, Fiyat: 101794.96\n",
      "Zaman: 2025-05-15 10:50:28.870090+00:00, Fiyat: 101811.7\n",
      "Zaman: 2025-05-15 10:50:34.389764+00:00, Fiyat: 101811.69\n",
      "Zaman: 2025-05-15 10:50:39.930934+00:00, Fiyat: 101811.7\n",
      "Zaman: 2025-05-15 10:50:45.454169+00:00, Fiyat: 101804.74\n",
      "Zaman: 2025-05-15 10:50:51.044095+00:00, Fiyat: 101791.66\n",
      "Zaman: 2025-05-15 10:50:56.526535+00:00, Fiyat: 101803.56\n",
      "Zaman: 2025-05-15 10:51:01.995499+00:00, Fiyat: 101793.29\n",
      "Zaman: 2025-05-15 10:51:07.482042+00:00, Fiyat: 101781.14\n",
      "Zaman: 2025-05-15 10:51:13.108149+00:00, Fiyat: 101786.22\n",
      "Zaman: 2025-05-15 10:51:18.636925+00:00, Fiyat: 101786.22\n",
      "Zaman: 2025-05-15 10:51:24.094892+00:00, Fiyat: 101786.23\n",
      "Zaman: 2025-05-15 10:51:30.623883+00:00, Fiyat: 101786.22\n",
      "Zaman: 2025-05-15 10:51:36.302778+00:00, Fiyat: 101786.22\n",
      "Zaman: 2025-05-15 10:51:41.778413+00:00, Fiyat: 101786.22\n",
      "Zaman: 2025-05-15 10:51:47.339542+00:00, Fiyat: 101786.23\n",
      "Zaman: 2025-05-15 10:51:52.831931+00:00, Fiyat: 101782.04\n"
     ]
    }
   ],
   "source": [
    "from influxdb_client import InfluxDBClient\n",
    "import os\n",
    "\n",
    "# Bağlantı bilgileri\n",
    "url = \"http://localhost:8086\"\n",
    "token = \"uIDz4VhQ9tosSxViLxwwgDwo6jF3CsqGfJdK0XeghqCSAqS97c934ddUCybwoBUCBnL1CzElikLwNWap3LAP7g==\"\n",
    "\n",
    "\n",
    "# token = os.environ.get(\"INFLUXDB_TOKEN\")\n",
    "org = \"Yildiz Technical Univercity\"\n",
    "bucket = \"crypto_bucket_db\"\n",
    "\n",
    "# Client başlat\n",
    "client = InfluxDBClient(url=url, token=token, org=org)\n",
    "query_api = client.query_api()\n",
    "\n",
    "# Flux sorgusu (son 1 saatlik veriyi alır)\n",
    "query = f'''\n",
    "from(bucket: \"{bucket}\")\n",
    "  |> range(start: -1w)\n",
    "  |> filter(fn: (r) => r._measurement == \"crypto_price\")\n",
    "  |> filter(fn: (r) => r._field == \"price\")\n",
    "  |> filter(fn: (r) => r.symbol == \"BTCUSDT\")\n",
    "'''\n",
    "\n",
    "# Sorguyu çalıştır\n",
    "tables = query_api.query(query)\n",
    "\n",
    "# Verileri yazdır\n",
    "for table in tables:\n",
    "    for record in table.records:\n",
    "        print(f\"Zaman: {record.get_time()}, Fiyat: {record.get_value()}\")\n"
   ]
  },
  {
   "cell_type": "code",
   "execution_count": 25,
   "id": "9b7b7799",
   "metadata": {},
   "outputs": [
    {
     "data": {
      "text/plain": [
       "[<FluxTable: 9 columns, 102 records>]"
      ]
     },
     "execution_count": 25,
     "metadata": {},
     "output_type": "execute_result"
    }
   ],
   "source": [
    "tables"
   ]
  },
  {
   "cell_type": "code",
   "execution_count": 17,
   "id": "0f0db749",
   "metadata": {},
   "outputs": [
    {
     "name": "stdout",
     "output_type": "stream",
     "text": [
      "Empty DataFrame\n",
      "Columns: []\n",
      "Index: []\n"
     ]
    },
    {
     "name": "stderr",
     "output_type": "stream",
     "text": [
      "/Library/Frameworks/Python.framework/Versions/3.10/lib/python3.10/site-packages/influxdb_client/client/warnings.py:31: MissingPivotFunction: The query doesn't contains the pivot() function.\n",
      "\n",
      "The result will not be shaped to optimal processing by pandas.DataFrame. Use the pivot() function by:\n",
      "\n",
      "    \n",
      "from(bucket: \"ikbal_bucket_deneme\")\n",
      "  |> range(start: -1h)\n",
      "  |> filter(fn: (r) => r._measurement == \"crypto_price\")\n",
      "  |> filter(fn: (r) => r._field == \"price\")\n",
      " |> pivot(rowKey:[\"_time\"], columnKey: [\"_field\"], valueColumn: \"_value\")\n",
      "\n",
      "You can disable this warning by:\n",
      "    import warnings\n",
      "    from influxdb_client.client.warnings import MissingPivotFunction\n",
      "\n",
      "    warnings.simplefilter(\"ignore\", MissingPivotFunction)\n",
      "\n",
      "For more info see:\n",
      "    - https://docs.influxdata.com/resources/videos/pivots-in-flux/\n",
      "    - https://docs.influxdata.com/flux/latest/stdlib/universe/pivot/\n",
      "    - https://docs.influxdata.com/flux/latest/stdlib/influxdata/influxdb/schema/fieldsascols/\n",
      "\n",
      "  warnings.warn(message, MissingPivotFunction)\n"
     ]
    }
   ],
   "source": [
    "import pandas as pd\n",
    "from influxdb_client import InfluxDBClient\n",
    "\n",
    "client = InfluxDBClient(url=url, token=token, org=org)\n",
    "query_api = client.query_api()\n",
    "\n",
    "query = f'''\n",
    "from(bucket: \"{bucket}\")\n",
    "  |> range(start: -1h)\n",
    "  |> filter(fn: (r) => r._measurement == \"crypto_price\")\n",
    "  |> filter(fn: (r) => r._field == \"price\")\n",
    "'''\n",
    "\n",
    "df = query_api.query_data_frame(query)\n",
    "print(df.head())\n"
   ]
  },
  {
   "cell_type": "code",
   "execution_count": 18,
   "id": "df2b578f",
   "metadata": {},
   "outputs": [
    {
     "data": {
      "text/html": [
       "<div>\n",
       "<style scoped>\n",
       "    .dataframe tbody tr th:only-of-type {\n",
       "        vertical-align: middle;\n",
       "    }\n",
       "\n",
       "    .dataframe tbody tr th {\n",
       "        vertical-align: top;\n",
       "    }\n",
       "\n",
       "    .dataframe thead th {\n",
       "        text-align: right;\n",
       "    }\n",
       "</style>\n",
       "<table border=\"1\" class=\"dataframe\">\n",
       "  <thead>\n",
       "    <tr style=\"text-align: right;\">\n",
       "      <th></th>\n",
       "    </tr>\n",
       "  </thead>\n",
       "  <tbody>\n",
       "  </tbody>\n",
       "</table>\n",
       "</div>"
      ],
      "text/plain": [
       "Empty DataFrame\n",
       "Columns: []\n",
       "Index: []"
      ]
     },
     "execution_count": 18,
     "metadata": {},
     "output_type": "execute_result"
    }
   ],
   "source": [
    "df"
   ]
  },
  {
   "cell_type": "code",
   "execution_count": null,
   "id": "e5846e33",
   "metadata": {},
   "outputs": [],
   "source": []
  },
  {
   "cell_type": "code",
   "execution_count": null,
   "id": "a1b43d1f",
   "metadata": {},
   "outputs": [],
   "source": []
  },
  {
   "cell_type": "code",
   "execution_count": null,
   "id": "411e0da0",
   "metadata": {},
   "outputs": [],
   "source": []
  }
 ],
 "metadata": {
  "kernelspec": {
   "display_name": "Python 3",
   "language": "python",
   "name": "python3"
  },
  "language_info": {
   "codemirror_mode": {
    "name": "ipython",
    "version": 3
   },
   "file_extension": ".py",
   "mimetype": "text/x-python",
   "name": "python",
   "nbconvert_exporter": "python",
   "pygments_lexer": "ipython3",
   "version": "3.10.5"
  }
 },
 "nbformat": 4,
 "nbformat_minor": 5
}
